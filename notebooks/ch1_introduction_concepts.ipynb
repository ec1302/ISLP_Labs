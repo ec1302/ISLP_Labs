{
 "cells": [
  {
   "cell_type": "markdown",
   "metadata": {},
   "source": [
    "<h1 style=\"font-size: 35px\">\n",
    "Chapter 1: Introduction\n",
    "</h1>"
   ]
  },
  {
   "cell_type": "markdown",
   "metadata": {},
   "source": [
    "One of the core concepts I want to brush up on is matrix multiplication, so here I will write a function to multiply matrices."
   ]
  },
  {
   "cell_type": "markdown",
   "metadata": {},
   "source": [
    "___"
   ]
  },
  {
   "cell_type": "code",
   "execution_count": 1,
   "metadata": {},
   "outputs": [],
   "source": [
    "import numpy as np # to create arrays"
   ]
  },
  {
   "cell_type": "code",
   "execution_count": 2,
   "metadata": {},
   "outputs": [],
   "source": [
    "def matrix_multiplication(A: np.array, B:np.array) -> np.array:\n",
    "    # Check if the number of columns in A is equal to the number of rows in B\n",
    "    if A.shape[1] != B.shape[0]:\n",
    "        raise ValueError(\"A columns size must equal B rows size\")\n",
    "    \n",
    "    # Initialize array\n",
    "    product = np.zeros((A.shape[0],B.shape[1]))\n",
    "    for i in range(A.shape[0]):\n",
    "        for j in range(B.shape[1]):\n",
    "            for k in range(A.shape[1]):\n",
    "                product[i][j] += A[i][k] * B[k][j]\n",
    "\n",
    "    return product"
   ]
  },
  {
   "cell_type": "code",
   "execution_count": 3,
   "metadata": {},
   "outputs": [
    {
     "name": "stdout",
     "output_type": "stream",
     "text": [
      "A: \n",
      "[[3 4 3]\n",
      " [6 5 2]] \n",
      "B: \n",
      "[[0 7]\n",
      " [0 5]\n",
      " [4 7]]\n"
     ]
    }
   ],
   "source": [
    "A = np.random.randint(0,10, size=(2,3))\n",
    "B = np.random.randint(0,10, size=(3,2))\n",
    "print(f\"A: \\n{A} \\nB: \\n{B}\")"
   ]
  },
  {
   "cell_type": "code",
   "execution_count": 4,
   "metadata": {},
   "outputs": [
    {
     "name": "stdout",
     "output_type": "stream",
     "text": [
      "A*B = \n",
      "[[12. 62.]\n",
      " [ 8. 81.]]\n"
     ]
    }
   ],
   "source": [
    "print(\"A*B = \")\n",
    "print(matrix_multiplication(A,B))"
   ]
  },
  {
   "cell_type": "code",
   "execution_count": 5,
   "metadata": {},
   "outputs": [
    {
     "data": {
      "text/plain": [
       "True"
      ]
     },
     "execution_count": 5,
     "metadata": {},
     "output_type": "execute_result"
    }
   ],
   "source": [
    "# Check to see if my function matches numpy \n",
    "np.array_equal(np.matmul(A,B), matrix_multiplication(A,B))"
   ]
  }
 ],
 "metadata": {
  "kernelspec": {
   "display_name": "islp-labs-i69XglUn-py3.12",
   "language": "python",
   "name": "python3"
  },
  "language_info": {
   "codemirror_mode": {
    "name": "ipython",
    "version": 3
   },
   "file_extension": ".py",
   "mimetype": "text/x-python",
   "name": "python",
   "nbconvert_exporter": "python",
   "pygments_lexer": "ipython3",
   "version": "3.12.5"
  }
 },
 "nbformat": 4,
 "nbformat_minor": 2
}
